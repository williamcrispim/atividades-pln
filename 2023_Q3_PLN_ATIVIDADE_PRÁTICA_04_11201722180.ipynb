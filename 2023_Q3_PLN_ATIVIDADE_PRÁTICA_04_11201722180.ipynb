{
  "cells": [
    {
      "cell_type": "markdown",
      "metadata": {
        "id": "Y6QILOdpOjwv"
      },
      "source": [
        "# **Processamento de Linguagem Natural [2023.Q3]**\n",
        "Prof. Alexandre Donizeti Alves"
      ]
    },
    {
      "cell_type": "markdown",
      "metadata": {
        "id": "8m67OOx9MX_3"
      },
      "source": [
        "### **ATIVIDADE PRÁTICA 04 [Uso da API da OpenAI com técnicas de PLN]**\n"
      ]
    },
    {
      "cell_type": "markdown",
      "metadata": {
        "id": "5Gk0nHKabBT-"
      },
      "source": [
        "A **ATIVIDADE PRÁTICA 04** deve ser feita utilizando o **Google Colab** com uma conta sua vinculada ao Gmail. O link do seu notebook, armazenado no Google Drive, além do link de um repositório no GitHub e os principais resultados da atividade, devem ser enviados usando o seguinte formulário:\n",
        "\n",
        "> https://forms.gle/GzwCq3R7ExtE9g9a8\n",
        "\n",
        "\n",
        "**IMPORTANTE**: A submissão deve ser feita até o dia **26/11 (domingo)** APENAS POR UM INTEGRANTE DA EQUIPE, até às 23h59. Por favor, lembre-se de dar permissão de ACESSO IRRESTRITO para o professor da disciplina de PLN."
      ]
    },
    {
      "cell_type": "markdown",
      "metadata": {
        "id": "D7hJlilKM485"
      },
      "source": [
        "### **EQUIPE**\n",
        "\n",
        "---"
      ]
    },
    {
      "cell_type": "markdown",
      "metadata": {
        "id": "tnIArN0QY-Ek"
      },
      "source": [
        "**POR FAVOR, PREENCHER OS INTEGRANDES DA SUA EQUIPE:**\n",
        "\n",
        "\n",
        "**Integrante 01:**\n",
        "\n",
        "`Por favor, informe o seu nome completo e RA:`\n",
        "\n",
        "William Crispim da Silva, 11201722180.\n",
        "\n",
        "**Integrante 02:**\n",
        "\n",
        "`Por favor, informe o seu nome completo e RA:`\n",
        "\n",
        "**Integrante 03:**\n",
        "\n",
        "`Por favor, informe o seu nome completo e RA:`"
      ]
    },
    {
      "cell_type": "markdown",
      "metadata": {
        "id": "6yExhaebs-nD"
      },
      "source": [
        "### **LIVRO**\n",
        "---"
      ]
    },
    {
      "cell_type": "markdown",
      "metadata": {
        "id": "DjJM_qhEZRy6"
      },
      "source": [
        "`Processamento de Linguagem Natural - Conceitos, Técnicas e Aplicações em Português.`\n",
        "\n",
        ">\n",
        "\n",
        "Disponível gratuitamente em:\n",
        "  \n",
        "  > https://brasileiraspln.com/livro-pln/1a-edicao/.\n",
        "\n",
        "\n",
        "**POR FAVOR, PREENCHER OS CAPITULOS SELECIONADOS PARA A SUA EQUIPE:**\n",
        "\n",
        "`Primeiro capítulo: `[13](https://brasileiraspln.com/livro-pln/1a-edicao/parte6/cap13/cap13.html)\n",
        "\n",
        "`Segundo capítulo:` [25](https://brasileiraspln.com/livro-pln/1a-edicao/parte10/cap25/cap25.html)\n",
        "\n"
      ]
    },
    {
      "cell_type": "markdown",
      "metadata": {
        "id": "EtjgWQRzNphL"
      },
      "source": [
        "### **DESCRIÇÃO**\n",
        "---"
      ]
    },
    {
      "cell_type": "markdown",
      "metadata": {
        "id": "fXTwkiiGs2BV"
      },
      "source": [
        "Implementar um `notebook` no `Google Colab` que faça uso da **API da OpenAI** aplicando, no mínimo, 3 técnicas de PLN. As técnicas devem ser aplicadas nos 2 (DOIS) capítulos do livro **Processamento de Linguagem Natural - Conceitos, Técnicas e Aplicações em Português**.\n",
        "\n",
        ">\n",
        "\n",
        "**RESTRIÇÃO**: É obrigatório usar o *endpoint* \"*`Chat Completions`*\".\n",
        "\n",
        ">\n",
        "\n",
        "As seguintes técnicas de PLN podem ser usadas:\n",
        "\n",
        "*   Correção Gramatical\n",
        "*   Classificação de Textos\n",
        "*   Análise de Sentimentos\n",
        "*   Detecção de Emoções\n",
        "*   Extração de Palavras-chave\n",
        "*   Tradução de Textos\n",
        "*   Sumarização de Textos\n",
        "*   **Similaridade de Textos**\n",
        "*   **Reconhecimento de Entidades Nomeadas**\n",
        "*   **Sistemas de Perguntas e Respostas**\n",
        "\n",
        ">\n",
        "\n",
        "Os capítulos devem ser os mesmos selecionados na **ATIVIDADE PRÁTICA 02**. Para consultar os capítulos, considere a seguinte planilha:\n",
        "\n",
        ">\n",
        "\n",
        "> https://docs.google.com/spreadsheets/d/1ZutzQ3v1OJgsgzCvCwxXlRIQ3ChXNlHNvB63JQvYsbo/edit?usp=sharing\n",
        "\n",
        ">\n",
        ">\n",
        "\n",
        "**IMPORTANTE:** É obrigatório usar o e-mail da UFABC. Não é permitido alterar os capítulos já selecionados.\n",
        "\n"
      ]
    },
    {
      "cell_type": "markdown",
      "metadata": {
        "id": "gWsBYQNtxmum"
      },
      "source": [
        "### **CRITÉRIOS DE AVALIAÇÃO**\n",
        "---\n"
      ]
    },
    {
      "cell_type": "markdown",
      "metadata": {
        "id": "5iHdx4BXYruQ"
      },
      "source": [
        "Serão considerados como critérios de avaliação as técnicas usadas e a criatividade envolvida na aplicação das mesmas.\n",
        "\n",
        "\n"
      ]
    },
    {
      "cell_type": "markdown",
      "metadata": {
        "id": "nw09lujGvfjc"
      },
      "source": [
        "### **IMPLEMENTAÇÃO**\n",
        "---"
      ]
    },
    {
      "cell_type": "markdown",
      "metadata": {
        "id": "kWyU3mcpNSEp"
      },
      "source": [
        "#### Instalar as bibliotecas necessárias"
      ]
    },
    {
      "cell_type": "code",
      "execution_count": 1,
      "metadata": {
        "colab": {
          "base_uri": "https://localhost:8080/"
        },
        "id": "z-xIazaINSEp",
        "outputId": "542a31f6-71ac-4fdd-de52-beec8b1f2a91"
      },
      "outputs": [
        {
          "output_type": "stream",
          "name": "stdout",
          "text": [
            "Requirement already satisfied: openai in /usr/local/lib/python3.10/dist-packages (1.3.5)\n",
            "Requirement already satisfied: requests in /usr/local/lib/python3.10/dist-packages (2.31.0)\n",
            "Requirement already satisfied: beautifulsoup4 in /usr/local/lib/python3.10/dist-packages (4.11.2)\n",
            "Requirement already satisfied: textblob in /usr/local/lib/python3.10/dist-packages (0.17.1)\n",
            "Requirement already satisfied: language-tool-python in /usr/local/lib/python3.10/dist-packages (2.7.1)\n",
            "Requirement already satisfied: transformers in /usr/local/lib/python3.10/dist-packages (4.35.2)\n",
            "Requirement already satisfied: scikit-learn in /usr/local/lib/python3.10/dist-packages (1.2.2)\n",
            "Requirement already satisfied: anyio<4,>=3.5.0 in /usr/local/lib/python3.10/dist-packages (from openai) (3.7.1)\n",
            "Requirement already satisfied: distro<2,>=1.7.0 in /usr/lib/python3/dist-packages (from openai) (1.7.0)\n",
            "Requirement already satisfied: httpx<1,>=0.23.0 in /usr/local/lib/python3.10/dist-packages (from openai) (0.25.2)\n",
            "Requirement already satisfied: pydantic<3,>=1.9.0 in /usr/local/lib/python3.10/dist-packages (from openai) (1.10.13)\n",
            "Requirement already satisfied: tqdm>4 in /usr/local/lib/python3.10/dist-packages (from openai) (4.66.1)\n",
            "Requirement already satisfied: typing-extensions<5,>=4.5 in /usr/local/lib/python3.10/dist-packages (from openai) (4.5.0)\n",
            "Requirement already satisfied: charset-normalizer<4,>=2 in /usr/local/lib/python3.10/dist-packages (from requests) (3.3.2)\n",
            "Requirement already satisfied: idna<4,>=2.5 in /usr/local/lib/python3.10/dist-packages (from requests) (2.10)\n",
            "Requirement already satisfied: urllib3<3,>=1.21.1 in /usr/local/lib/python3.10/dist-packages (from requests) (2.0.7)\n",
            "Requirement already satisfied: certifi>=2017.4.17 in /usr/local/lib/python3.10/dist-packages (from requests) (2023.7.22)\n",
            "Requirement already satisfied: soupsieve>1.2 in /usr/local/lib/python3.10/dist-packages (from beautifulsoup4) (2.5)\n",
            "Requirement already satisfied: nltk>=3.1 in /usr/local/lib/python3.10/dist-packages (from textblob) (3.8.1)\n",
            "Requirement already satisfied: filelock in /usr/local/lib/python3.10/dist-packages (from transformers) (3.13.1)\n",
            "Requirement already satisfied: huggingface-hub<1.0,>=0.16.4 in /usr/local/lib/python3.10/dist-packages (from transformers) (0.19.4)\n",
            "Requirement already satisfied: numpy>=1.17 in /usr/local/lib/python3.10/dist-packages (from transformers) (1.23.5)\n",
            "Requirement already satisfied: packaging>=20.0 in /usr/local/lib/python3.10/dist-packages (from transformers) (23.2)\n",
            "Requirement already satisfied: pyyaml>=5.1 in /usr/local/lib/python3.10/dist-packages (from transformers) (6.0.1)\n",
            "Requirement already satisfied: regex!=2019.12.17 in /usr/local/lib/python3.10/dist-packages (from transformers) (2023.6.3)\n",
            "Requirement already satisfied: tokenizers<0.19,>=0.14 in /usr/local/lib/python3.10/dist-packages (from transformers) (0.15.0)\n",
            "Requirement already satisfied: safetensors>=0.3.1 in /usr/local/lib/python3.10/dist-packages (from transformers) (0.4.0)\n",
            "Requirement already satisfied: scipy>=1.3.2 in /usr/local/lib/python3.10/dist-packages (from scikit-learn) (1.11.3)\n",
            "Requirement already satisfied: joblib>=1.1.1 in /usr/local/lib/python3.10/dist-packages (from scikit-learn) (1.3.2)\n",
            "Requirement already satisfied: threadpoolctl>=2.0.0 in /usr/local/lib/python3.10/dist-packages (from scikit-learn) (3.2.0)\n",
            "Requirement already satisfied: sniffio>=1.1 in /usr/local/lib/python3.10/dist-packages (from anyio<4,>=3.5.0->openai) (1.3.0)\n",
            "Requirement already satisfied: exceptiongroup in /usr/local/lib/python3.10/dist-packages (from anyio<4,>=3.5.0->openai) (1.1.3)\n",
            "Requirement already satisfied: httpcore==1.* in /usr/local/lib/python3.10/dist-packages (from httpx<1,>=0.23.0->openai) (1.0.2)\n",
            "Requirement already satisfied: h11<0.15,>=0.13 in /usr/local/lib/python3.10/dist-packages (from httpcore==1.*->httpx<1,>=0.23.0->openai) (0.14.0)\n",
            "Requirement already satisfied: fsspec>=2023.5.0 in /usr/local/lib/python3.10/dist-packages (from huggingface-hub<1.0,>=0.16.4->transformers) (2023.6.0)\n",
            "Requirement already satisfied: click in /usr/local/lib/python3.10/dist-packages (from nltk>=3.1->textblob) (8.1.7)\n"
          ]
        }
      ],
      "source": [
        "pip install openai requests beautifulsoup4 textblob language-tool-python transformers scikit-learn"
      ]
    },
    {
      "cell_type": "markdown",
      "metadata": {
        "id": "rjlDkUb4NSEq"
      },
      "source": [
        "#### Importar as bibliotecas"
      ]
    },
    {
      "cell_type": "code",
      "execution_count": 2,
      "metadata": {
        "id": "irB6PAZLNSEq"
      },
      "outputs": [],
      "source": [
        "import openai\n",
        "import requests\n",
        "from bs4 import BeautifulSoup\n",
        "from textblob import TextBlob\n",
        "from textblob.translate import NotTranslated\n",
        "from language_tool_python import LanguageTool\n",
        "from transformers import pipeline\n",
        "from sklearn.feature_extraction.text import TfidfVectorizer\n",
        "from sklearn.metrics.pairwise import cosine_similarity"
      ]
    },
    {
      "cell_type": "markdown",
      "metadata": {
        "id": "OVG9xJPENSEq"
      },
      "source": [
        "#### Configurar a chave da API da OpenAI"
      ]
    },
    {
      "cell_type": "code",
      "execution_count": 3,
      "metadata": {
        "id": "eMTboY-2NSEr"
      },
      "outputs": [],
      "source": [
        "openai.api_key = 'SUA_API_KEY_AQUI'"
      ]
    },
    {
      "cell_type": "markdown",
      "metadata": {
        "id": "5qj7c7bENSEr"
      },
      "source": [
        "#### URLs dos capítulos"
      ]
    },
    {
      "cell_type": "code",
      "execution_count": 4,
      "metadata": {
        "id": "vkeKVEnWNSEr"
      },
      "outputs": [],
      "source": [
        "url_capitulo13 = 'https://brasileiraspln.com/livro-pln/1a-edicao/parte6/cap13/cap13.html'\n",
        "url_capitulo25 = 'https://brasileiraspln.com/livro-pln/1a-edicao/parte10/cap25/cap25.html'"
      ]
    },
    {
      "cell_type": "markdown",
      "metadata": {
        "id": "GImSPR1WNSEr"
      },
      "source": [
        "#### Obter o conteúdo de uma URL"
      ]
    },
    {
      "cell_type": "code",
      "execution_count": 9,
      "metadata": {
        "colab": {
          "base_uri": "https://localhost:8080/"
        },
        "id": "w3TM8El6NSEr",
        "outputId": "e855d88d-37cb-4b33-d761-552ea45245a5"
      },
      "outputs": [
        {
          "output_type": "stream",
          "name": "stdout",
          "text": [
            "Leidiana Iza Andrade Freitas  VlÃ¡dia Pinheiro  26/09/2023 PDF O presente capÃ­tulo encontra-se em fase de desenvolvimento e serÃ¡ lanÃ§ado nas prÃ³ximas ediÃ§Ãµes, portanto, apresentamos um breve resumo. A emergÃªncia e a constituiÃ§Ã£o do domÃ­nio pragmÃ¡tico sÃ£o antes de tudo imputÃ¡veis a uma situaÃ§Ã£o de crise da filosofia, ocorrida no final do sÃ©culo XIX, em razÃ£o da qual as diferentes correntes de pensamento efetuaram um retorno radical Ã  questÃ£o da linguagem. Do ponto de vista linguÃ­stico, a pragmÃ¡tica Ã© um conjunto de teorias desenvolvidas com a perspectiva de analisar o uso concreto das linguagens naturais considerando a influÃªncia do contexto comunicacional, extrapolando assim a visÃ£o da semÃ¢ntica e da sintaxe. Dentre as principais teorias destacam-se a Teoria dos Atos de Fala, de Searle, as Teorias do Inferencialismo SemÃ¢ntico, de Sellars, Dummett e Brandom, e o PrincÃ­pio Cooperativo, de Grice. Este capÃ­tulo terÃ¡ como objetivo explanar tais teorias e filosofias da linguagem e apresentar os frameworks e aplicaÃ§Ãµes de PLN que visam processar textos sob a Ã³tica racional e pragmÃ¡tica das linguagens naturais. Em especial, o capÃ­tulo abordarÃ¡ a tarefa de Reconhecimento de ImplicaÃ§Ã£o Textual (Recognizing Textual Entailment â RTE) e demais sistemas de InferÃªncia em Linguagem Natural (Natural Language Inference â NLI).\n",
            "https://brasileiraspln.com/livro-pln/1a-edicao/parte10/cap25/cap25.html\n"
          ]
        }
      ],
      "source": [
        "def obter_texto_da_url(url):\n",
        "    resposta = requests.get(url)\n",
        "    soup = BeautifulSoup(resposta.text, 'html.parser')\n",
        "    paragrafos = soup.find_all('p')\n",
        "    texto = ' '.join([p.get_text() for p in paragrafos])\n",
        "    return texto\n",
        "\n",
        "capitulo13_texto = obter_texto_da_url(url_capitulo13)\n",
        "capitulo25_texto = obter_texto_da_url(url_capitulo25)"
      ]
    },
    {
      "cell_type": "markdown",
      "metadata": {
        "id": "BD-8REs0NSEs"
      },
      "source": [
        "#### Corrigir gramaticalmente o texto usando LanguageTool"
      ]
    },
    {
      "cell_type": "code",
      "execution_count": 6,
      "metadata": {
        "id": "XT4A7SuRNSEs"
      },
      "outputs": [],
      "source": [
        "def corrigir_gramatica(texto):\n",
        "    tool = LanguageTool('en-US')\n",
        "    corrigido = tool.correct(texto)\n",
        "    return corrigido\n",
        "\n",
        "capitulo13_texto_corrigido = corrigir_gramatica(capitulo13_texto)\n",
        "capitulo25_texto_corrigido = corrigir_gramatica(capitulo25_texto)"
      ]
    },
    {
      "cell_type": "markdown",
      "metadata": {
        "id": "P6kGwtyuNSEs"
      },
      "source": [
        "#### Realizar análise de sentimentos usando TextBlob"
      ]
    },
    {
      "cell_type": "code",
      "execution_count": 7,
      "metadata": {
        "id": "iAkGqHuHNSEs"
      },
      "outputs": [],
      "source": [
        "def analisar_sentimento(texto):\n",
        "    blob = TextBlob(texto)\n",
        "    sentimento = blob.sentiment\n",
        "    return sentimento.polarity\n",
        "\n",
        "capitulo13_sentimento = analisar_sentimento(capitulo13_texto)\n",
        "capitulo25_sentimento = analisar_sentimento(capitulo25_texto)"
      ]
    },
    {
      "cell_type": "markdown",
      "metadata": {
        "id": "3884jU7mNSEs"
      },
      "source": [
        "#### Detectar emoções usando pipeline do transformers"
      ]
    },
    {
      "cell_type": "code",
      "execution_count": 19,
      "metadata": {
        "colab": {
          "base_uri": "https://localhost:8080/"
        },
        "id": "EKBa20sFNSEt",
        "outputId": "7a29a57e-d982-44b8-a0e5-62af22845992"
      },
      "outputs": [
        {
          "output_type": "stream",
          "name": "stderr",
          "text": [
            "No model was supplied, defaulted to distilbert-base-uncased-finetuned-sst-2-english and revision af0f99b (https://huggingface.co/distilbert-base-uncased-finetuned-sst-2-english).\n",
            "Using a pipeline without specifying a model name and revision in production is not recommended.\n",
            "No model was supplied, defaulted to distilbert-base-uncased-finetuned-sst-2-english and revision af0f99b (https://huggingface.co/distilbert-base-uncased-finetuned-sst-2-english).\n",
            "Using a pipeline without specifying a model name and revision in production is not recommended.\n"
          ]
        }
      ],
      "source": [
        "def detectar_emocoes(texto):\n",
        "    max_length = 512\n",
        "    texto = texto[:max_length]\n",
        "    partes_texto = [texto[i:i+max_length] for i in range(0, len(texto), max_length)]\n",
        "    emotion_pipeline = pipeline('sentiment-analysis')\n",
        "    resultados_emocoes = []\n",
        "    for parte_texto in partes_texto:\n",
        "        emocoes = emotion_pipeline(parte_texto)\n",
        "        resultados_emocoes.extend(emocoes)\n",
        "    return resultados_emocoes\n",
        "\n",
        "capitulo13_emocoes = detectar_emocoes(capitulo13_texto)\n",
        "capitulo25_emocoes = detectar_emocoes(capitulo25_texto)"
      ]
    },
    {
      "cell_type": "markdown",
      "metadata": {
        "id": "1WyCvCEKNSEt"
      },
      "source": [
        "#### Palavras-chave usando TfidfVectorizer"
      ]
    },
    {
      "cell_type": "code",
      "execution_count": 22,
      "metadata": {
        "id": "L62KM7h4NSEt"
      },
      "outputs": [],
      "source": [
        "def extrair_palavras_chave(texto):\n",
        "    vetorizador = TfidfVectorizer(stop_words='english')\n",
        "    matriz_tfidf = vetorizador.fit_transform([texto])\n",
        "    nomes_caracteristicas = vetorizador.get_feature_names_out()\n",
        "    indice_palavras_chave = matriz_tfidf.sum(axis=0).argmax()\n",
        "    palavras_chave = [nomes_caracteristicas[indice_palavras_chave.item()]]\n",
        "    return palavras_chave\n",
        "\n",
        "capitulo13_palavras_chave = extrair_palavras_chave(capitulo13_texto)\n",
        "capitulo25_palavras_chave = extrair_palavras_chave(capitulo25_texto)"
      ]
    },
    {
      "cell_type": "markdown",
      "metadata": {
        "id": "cNHpjtnsNSEt"
      },
      "source": [
        "#### Traduzir texto usando TextBlob"
      ]
    },
    {
      "cell_type": "code",
      "execution_count": 29,
      "metadata": {
        "id": "fKP5fVtKNSEt"
      },
      "outputs": [],
      "source": [
        "def traduzir_texto(texto, idioma_alvo='en'):\n",
        "    try:\n",
        "        blob = TextBlob(texto)\n",
        "        texto_traduzido = blob.translate(from_lang='pt_br', to='en')\n",
        "        return str(texto_traduzido)\n",
        "    except NotTranslated:\n",
        "        return texto\n",
        "\n",
        "capitulo13_texto_traduzido = traduzir_texto(capitulo13_texto, idioma_alvo='en')\n",
        "capitulo25_texto_traduzido = traduzir_texto(capitulo25_texto, idioma_alvo='en')"
      ]
    },
    {
      "cell_type": "code",
      "source": [
        "print(capitulo13_texto_traduzido)\n",
        "print(capitulo25_texto_traduzido)"
      ],
      "metadata": {
        "colab": {
          "base_uri": "https://localhost:8080/"
        },
        "outputId": "dbae4496-526c-4c34-a5c8-d407d8f925b0",
        "id": "b-uzlpiVpR_v"
      },
      "execution_count": 30,
      "outputs": [
        {
          "output_type": "stream",
          "name": "stdout",
          "text": [
            "Leidiana Iza Andrade Freitas Vládia Pinheiro 09/26/2023 PDF The present chapter is in the development phase and will be launched in the nearby editions, so we present a brief summary. The emergency and the constitution of the pragmatic domain is first and foremost imputable to a situation of crisis of philosophy, which occurred at the end of the nineteenth century, in reason of which The different currents of thinking made a radical return as a question of language. From a linguastic point of view, the pragmatic is a set of theories developed with the perspective of analyzing the concrete use of natural languages ​​considering the influence of the communicational context, thus extrapolating the vision of semi -tantic and syntax. Among the main theories include the theory of speech, Searle's acts of speech, the theories of semented inferentialism, by Sellars, Dummett and Brandom, and the cooperative principle of Grice. This chapter will be objective to explain such language theories and philosophies and present the PLN frameworks and applications that aim to process texts under rational and pragmatic natural languages ​​of natural languages. In particular, the chapter will address the task of recognizing textual implication (textual recognizing Â RT) and other systems of natural language (Natural Language Inference Â NLI).\n",
            "Maria das Fágios Volpe Nunes 09/26/2023 PDF In this last chapter we list some challenges and perspectives for the PLN in Portuguese, and end with a discussion about the current boundaries of PLN. By historical and econhamic reasons, current systems of the state of the state of the art is much more common in English than in any other dowant. While other communities that are adapted for their wools the systems originally created for English (through new training, but with the use of parantens), minority linguistic communities and linguastic communities of less developed paães invisible in the world digital, with negative and direct consequences in its economy and development. According to the Camãs Institute in 2022, the Portuguese speaker community in the world was estimated at about 260 million people (3.7% of the world population) being the fourth most used language after Mandarin, English and Spanish. However, this representativeness is not contemplated in the state of the art of science, which is mostly in the moms of institutions and organizations do not speak Portuguese. Brazilian and Portuguese researchers so raised the need to unite forms to put the Portuguese in the prominent place he deserves1. The processing of Portuguese Brazilian has been consistently advanced since mid-1990s, especially from the use of Cross-Language and Multilãngue approaches, which facilitate the construction of resources and solutions, and allow the generation of an application to a bone of an application to another designer. But it is still the union of efforts between the paan of the Portuguese dowant's (CPLP) paan community, which includes Portugal, Angola, Mohard, Cape Verde, Guinã © -Bissau, San Tomão and Proncipe, in addition to Brazil. If linguastic differences between the different languages ​​represent barriers to the creation of common systems, it is not possible that the union of efforts will be benefited for all. For now, the most visible effort is the one among the strongest in the group, Brazil and Portugal, which hold a common biannual scientific event, the propo2, and maintenance of academic vans hightly vain. Two large repositations of resource and linguistic-computational tools of Portuguese, which intend to cover the various communities of Portuguese dowant are Languagec3 and Portulan Clarin4. In extensive matters such as Brazil, where there is a wide linguastic variety, such as the different indigenous wools spoken in the national territory5, the dialectal and social variations and the regional accents of Brazilian Portuguese, their riches and linguastic diversity hardly SÃO represented in the corpora. This sub-presentation in the training data of Mother's learning models is one of the factors that contribute to increasing the coding of biases by these systems. Therefore, the importance of the linguan data that feeds such systems is collected in a responsibly manner, seeking to represent the linguastic and idiomal variations of the wool spoken in the pans. One of the first Brazilian corporate used to train a model of banguage is the BRWAC (Brazilian Brazilian Web as Corpus), consisting of 3.53 million web documents, totaling 2.68 pills of tokens, with pill access to researchers6 . Already the corpus Carolina, from the center of AI, C4AI7, is, according to the authors, a corpus with a robust volume of texts in Portuguese Contemporã ¢ Neo (1970-2021), with information information Procedure and typology. Corpus is available for open access, for free download, since 8 of 2022. The current versions, ad 1.2 (8 of 2023), has 823 million tokens, more than two million of texts and more than 11 gbsan 8. This corpus is an important step towards the Brazilian Portuguese training, and has the rite of including a wide variety of gãªneros (journalism, literature, poetry, judicial, wikis, social, legislative, academic, etc. ), but still does not contemplate the regional and cultural diversity of this dowant, a goal pursued by the C4AI with the construction of the speech corpus (transcripts) Tarsila9, expected to contemplate the different Brazilian dialects. All of these corpora intend to be varied as to the textual and domain. In the same C4AI, the Proindl10 project promises to use AI in partnership with indigenous communities for the development of tools that promote preservation, revitalization and dissemination of indigenous wool in Brazil. One of the goals is to explore the techniques that use few data to create auto translators for both text and speech, in other other applications. Even with the limit of variety and corporate size in Portuguese for training of LLMs, large models of dowition for the Portuguese are already found, whether they are models with Multilãngue capacity (eg Google Palm models) , whether they are trained only in Portuguese (eg Bertimbau (Souza; Nogueira; Lotufo, 2020), Sabijão (Pires et al., 2023), Albertina11). Thus, clear the advances in the direction of Portuguese dowition. However, what may seem simple (corpus + neural networks and transformers + fine-tuning = llm) can indeed be unbeaten. The cost of producing a quality LLM is extremely high. A llm, such as the Llama-65b, for example, was pronounced with 1.4 Trilhã of words, in 40,000 GPU12-hours, consuming energy equivalent to the consumption of about 10 Brazilian houses in one year13. On the one hand, they are required many GPUs to train competitive models: the greater the number of GPUS, the more parts can be used in the model, increasing their effectiveness in a task. Currently, few pillful or private institutions have an infrastructure to do so, and yet with a much lower GPUs (2 to 100) that has cloud -disposed (TPUS14 cloud) with rent that can arrive that can arrive to a million dummal mills. Researchers often resort to free and temporary resources offered by international giants (eg Google Cloud). This external dependence on resources essential to technological development can be minimized through governmental action and investments (eg CNPq centered) or by collective initiatives of resource holders to gather them to increase the power Computational and share it with the whole community. On the other hand, regardless of the financial factor, we have the energy cost, with effect on carbon emission, which, as we have seen, is not discouraged. These questions make us reflect on the following ways to follow. Not everything is resolved with large models of Dipangua, as well as many interesting applications that can be developed either with more modest models or by different means of desire models. Considering particular tasks and domains of knowledge, it is possible to build solutions from models trained only in this domain. In fact, the results tend to be better than with the use of more general models. In addition, considering a more specific task can lead to a solution - whatever the most effective approach. The limitations for the academy not prevent, however, that the PLN is increasingly used by companies and startups of the area, whose number has been growing a lot in our Paãs. Certainly this is the result of the high demand for systems of this nature, but also of the investment of the universities in the form of human resources in this area. We are living a moment of great absorption of PLN professionals through the market. One more reason to reflect on the formation of these professionals in the face of the great challenges that this area (and the AI ​​in general) puts us. In addition to all the questions previously raised, it is noteworthy the relevance of adapting the critics of evaluation traditionally used for AI and, in particular, PLN, the new reality of the application offered to society. Academic culture suggests an assessment in rigidly controlled scenes, using only objective (numerical) moments, aiming at almost exclusively comparing with other systems. So it is the science and so it evolves. However, in view of the reach that new technologies are in society, it is urgent that all the assessment of the assessment consider criticism of other natures, critics that help to predict the behavior of the system in Situation, in fact, real, known, where unpredictability is a relevant factor. The dowant is often cited as a sign of intelligence and therefore distinguish us from other animals. For this reason, alião, that the PLN has always been linked to the artificial intelligence. Systems endowed with linguastic skills would be among the (artificially) intelligent (artificially). However, intelligence is something difficult to define. Just seem intelligent to make us smart? This question has always been present at AI. How to define an intelligent system? It is necessary that he reason like humans (be bioinspirated), who has knowledge explicitly represented in his algorithms, or is enough that his answers are similar to a human in the same situations? There is no agreement on this, as we can not even agree with the crothes of classification of human intelligence. In the case of PLN, this translates into the following question: Can the systems that show linguastic skill can be given intelligence? Still: do they really dominate the total knowledge of the dowant and all the feats that the dowant in use presents us? The Dipangua has been the object of study, dwarf and fascination in the most varied areas of knowledge: philosophy, literature, linguastic, psychology, psycholysis, cognitive sciences, social communication, among others, and recently , from PLN. This reveals that the dowant is a very rich and complex object of study, and therefore, it is not possible to address it according to a discipline. The PLN has been presented as a common area to two disciplines, computing and linguastic. In the past, this seemed enough, for only the formal, structural, dowant poron was treated computationally15. Over time, the evolution of mothers and social networks has changed. This operating one in use in the current digital scene can be treated in a transdisciplinary way. It is not a simple path, neither Cánmodo nor guarantee that the PLN will be successful. For the contrary, it is not improvable that, when treating the dowant in all its complexity, we conclude that there is a limit to the PLN that is independent of technological advances. Anterior chapters show that PLN is an area of ​​great potential, poring challenges, over which it is difficult to make predictions. Various tasks of being resolved by current technologies (neural networks, learning of mother) that are not new ideas; They were dormant to the hardware of the mother could process them efficiently. In the case of PLN, however, it is not reasonable to predict that hardware advances, or even all, guarantee the complete solution for all systems surrounding the dowant. The demand for systems that process the dowant does not stop growing. It is worth noting that demands and mothers are interdependent: while demands cause new mothers, these are the last way to new demands before no possible. This book also showed that the linguastic performance of current PLN systems mirror what they learn from the training data of learning algorithms: Wool in the cultured norm, poorly formed, discourse, misogyny or racism; Whatever has been offered to the learning algorithm, the example of an example eventually reproduced by the generated system. As knowledge (the banguage) acquired in these systems is not explicitly represented (it is immersed in probability or paranters in the numbers of neural networks), there is no control of when and how it will be used. All these side effects of this technology worry society and bring to the PLN community challenges and responsibilities not existing before. The AI ​​and PLN TRA TR TAKEN TRAINING THAT TEACHED THAT THE ACHIEVEMENT OF MORE MODEST AND REALIST GOALS Over time has led us to increasingly surprising levels. We invite you to wait to see, or to do to happen. https://www.publico.pt/2023/02/09/opiniao/opiniao/linga-portuguesa-technology-futuro-2038078â © ï Proposal (International Conference on Computational Processing of Portuguese Language). Arrangeable at: https://sites.google.com/view/ce-pln/eventos/propor.â © ïda https://www.lingateca.pt/ © ï .NET/Â ïça https://www.gov.br/funai/en-br/assuntos/noticias/2022-02/brasil-registra-274-lingas-indigenas-diferdas-faladas-por-305 -etniasâ © ïça https://www.inf.ufrgs.br/pln/wiki/index.php?title=brwaca © ï /Â ïça https://sites.usp.br/corpuscarolina/â © ïça Tarsila. Arrange at: https://sites.google.com/view/tarsila-c4ai.â © ïça https://c4ai.inova.usp.br/en/pesquisas/#proindl_porta © ï Trained models for European and Brazilian variants of Portuguese dispanable at: https://huggingface.co/portulan/albertina-ptbr-nobrwac. â Â ïça https://www.youtube.com/watch?v=prjrq8xl-y&ab_channel=brasileiraSemplNen © ïda TPUS (Tensor Processing Units) are training and generation accelerators £ of models of Machine Learning. Every attempt to reach the extraolinguastic is only an approximation.\n"
          ]
        }
      ]
    },
    {
      "cell_type": "markdown",
      "metadata": {
        "id": "Ps6L6ewxNSEt"
      },
      "source": [
        "#### Sumarizar texto usando pipeline do transformers"
      ]
    },
    {
      "cell_type": "code",
      "execution_count": 33,
      "metadata": {
        "colab": {
          "base_uri": "https://localhost:8080/"
        },
        "id": "5SZcMelFNSEu",
        "outputId": "052be238-8136-4ced-9960-a230952032ef"
      },
      "outputs": [
        {
          "output_type": "stream",
          "name": "stderr",
          "text": [
            "Your max_length is set to 150, but your input_length is only 143. Since this is a summarization task, where outputs shorter than the input are typically wanted, you might consider decreasing max_length manually, e.g. summarizer('...', max_length=71)\n"
          ]
        }
      ],
      "source": [
        "def sumarizar_texto(texto):\n",
        "    # Definir o modelo de sumarização\n",
        "    modelo_sumarizacao = 'sshleifer/distilbart-cnn-12-6'\n",
        "    revisao_modelo = 'a4f8f3e'\n",
        "\n",
        "    # Definir o tamanho máximo de sequência permitido para o modelo\n",
        "    max_length_modelo = 1024\n",
        "\n",
        "    # Dividir o texto em segmentos menores\n",
        "    segmentos = [texto[i:i+max_length_modelo] for i in range(0, len(texto), max_length_modelo)]\n",
        "    sumarizacoes_segmentos = []\n",
        "\n",
        "    for segmento in segmentos:\n",
        "        pipeline_sumarizacao = pipeline('summarization', model=modelo_sumarizacao, revision=revisao_modelo)\n",
        "        resumo = pipeline_sumarizacao(segmento, max_length=150, min_length=50, length_penalty=2.0)\n",
        "        sumarizacoes_segmentos.append(resumo[0]['summary_text'])\n",
        "\n",
        "    resumo_final = ' '.join(sumarizacoes_segmentos)\n",
        "\n",
        "    return resumo_final\n",
        "\n",
        "capitulo13_resumo = sumarizar_texto(capitulo13_texto)\n",
        "capitulo25_resumo = sumarizar_texto(capitulo25_texto)"
      ]
    },
    {
      "cell_type": "markdown",
      "metadata": {
        "id": "ohsz-IKtNSEu"
      },
      "source": [
        "#### Calcular similaridade de textos usando TfidfVectorizer"
      ]
    },
    {
      "cell_type": "code",
      "source": [
        "def similaridade_texto(texto1, texto2):\n",
        "    vetorizador = TfidfVectorizer(stop_words='english')\n",
        "    matriz_tfidf = vetorizador.fit_transform([texto1, texto2])\n",
        "    similaridade = cosine_similarity(matriz_tfidf[0], matriz_tfidf[1])\n",
        "    return similaridade[0][0]\n",
        "\n",
        "capitulo13_capitulo25_similaridade = similaridade_texto(capitulo13_texto, capitulo25_texto)"
      ],
      "metadata": {
        "id": "TnpWbyD8Nh8-"
      },
      "execution_count": 34,
      "outputs": []
    },
    {
      "cell_type": "markdown",
      "metadata": {
        "id": "3k8xR97lNSEy"
      },
      "source": [
        "#### Resultados do Capítulo 13:"
      ]
    },
    {
      "cell_type": "code",
      "execution_count": 35,
      "metadata": {
        "colab": {
          "base_uri": "https://localhost:8080/"
        },
        "id": "x5HOM6VaNSEy",
        "outputId": "8bb65a3b-9bbe-4789-9986-68d5e61a9cf4"
      },
      "outputs": [
        {
          "output_type": "stream",
          "name": "stdout",
          "text": [
            "Texto corrigido gramaticalmente: Radiant IRA Andrade Fracas VLA¡did Pindar 26/09/2023 PDF O present capÃ­tulo encontra-se em phase de desenvolvimento e era¡ landlady NAS PRA³Xmas ediÃ§Ãµes, potato, apresentamos um breve resume. An emergÃªncia e a constituiÃ§Ã£o do domain drama¡Rico sago antes de Tudor impute¡was an UMA situaÃ§Ã£o de rise the philosophic, corrido no final do Sancho XIX, em Lazaro the equal as differences currents de Papiamento efetuaram um return radical Ã question the language. Do onto de vista linguistic, a drama¡Tina A um conj unto de theories desenvolvidas com a perspective de Annalisa o USO concrete was languages naturals considered an influÃªncia do context comunicacional, extrapolated Assam a visa the semantic e the intake. Denture as principals theories destacam-se a Peoria dos Atos de Fala, de Earle, as Theories do Inferencialismo Semantic, de Sellers, Emmett e Random, e o PrincÃ­pio Cooperative, de Price. Ester capÃ­tulo term¡ Como objective explanar ties theories e philosophies the language e presenter OS frameworks e aplicaÃ§Ãµes de PLN Que visa processor texts sob a Ã³Tina rational e drama¡Tina was languages naturals. Em especial, o capÃ­tulo border¡ a Tara de Reconhecimento de ImplicaÃ§Ã£o Textual (Recognizing Textual Entailment a RTE) e denies systems de InferÃªncia em Language Natural (Natural Language Inference a CLI).\n",
            "Sentimento: 0.06666666666666667\n",
            "Emoções: [{'label': 'NEGATIVE', 'score': 0.9911222457885742}]\n",
            "Palavras-chave: ['da']\n",
            "Texto traduzido: Leidiana Iza Andrade Freitas Vládia Pinheiro 09/26/2023 PDF The present chapter is in the development phase and will be launched in the nearby editions, so we present a brief summary. The emergency and the constitution of the pragmatic domain is first and foremost imputable to a situation of crisis of philosophy, which occurred at the end of the nineteenth century, in reason of which The different currents of thinking made a radical return as a question of language. From a linguastic point of view, the pragmatic is a set of theories developed with the perspective of analyzing the concrete use of natural languages ​​considering the influence of the communicational context, thus extrapolating the vision of semi -tantic and syntax. Among the main theories include the theory of speech, Searle's acts of speech, the theories of semented inferentialism, by Sellars, Dummett and Brandom, and the cooperative principle of Grice. This chapter will be objective to explain such language theories and philosophies and present the PLN frameworks and applications that aim to process texts under rational and pragmatic natural languages ​​of natural languages. In particular, the chapter will address the task of recognizing textual implication (textual recognizing Â RT) and other systems of natural language (Natural Language Inference Â NLI).\n",
            "Resumo:  Este capÃ­tulo terÃ¡ como objetivo  explanar tais teorias e filosofias da linguagem e apresno . A pragmÃ­stico is a conjunto de teorios desenvolvidas desenveveas com a perspectiva de analisar o uso concreto das linguagens naturais considerando a influÃªncia do contexto comunicacional .  CapÃ­tulo abordarÃ¡ a tarefa de Reconhecimento de ImplicaÃ§Ã£o Textual (Recognizing Textual Entailment) e demais sistemas de InferÃªncia em Linguagem Natural (Natural Language Inference)\n"
          ]
        }
      ],
      "source": [
        "print(\"Texto corrigido gramaticalmente:\", capitulo13_texto_corrigido)\n",
        "print(\"Sentimento:\", capitulo13_sentimento)\n",
        "print(\"Emoções:\", capitulo13_emocoes)\n",
        "print(\"Palavras-chave:\", capitulo13_palavras_chave)\n",
        "print(\"Texto traduzido:\", capitulo13_texto_traduzido)\n",
        "print(\"Resumo:\", capitulo13_resumo)"
      ]
    },
    {
      "cell_type": "markdown",
      "source": [
        "#### Resultados do Capítulo 25:"
      ],
      "metadata": {
        "id": "XPiw8tu3Ui5D"
      }
    },
    {
      "cell_type": "code",
      "source": [
        "print(\"Texto corrigido gramaticalmente:\", capitulo25_texto_corrigido)\n",
        "print(\"Sentimento:\", capitulo25_sentimento)\n",
        "print(\"Emoções:\", capitulo25_emocoes)\n",
        "print(\"Palavras-chave:\", capitulo25_palavras_chave)\n",
        "print(\"Texto traduzido:\", capitulo25_texto_traduzido)\n",
        "print(\"Resumo:\", capitulo25_resumo)"
      ],
      "metadata": {
        "colab": {
          "base_uri": "https://localhost:8080/"
        },
        "id": "H8X8x-5qUlkF",
        "outputId": "ea32a608-f745-4399-e711-79238aab9fb8"
      },
      "execution_count": 36,
      "outputs": [
        {
          "output_type": "stream",
          "name": "stdout",
          "text": [
            "Texto corrigido gramaticalmente: Maria was Gracias Vole Tunes 26/09/2023 PDF Nest Ultimo CapÃ­tulo encamps albums details e perspectives para o PLN em language Portuguese e finalization com UMA discussant sober OS limits attain do PLN. POR ravages vista³Rivas e econ´mica, OS systems attain de PLN âestado the area sago moot main comes em inlays do Que em quarter outran language. Squanto Que outran communicates tam adapt ado para seas language OS systems originalmente triads para o inlays (POR Mao de novas transients, mas com aproveitamento de parameters), communicates linguistics minority¡bias e communicates linguistics de passes menus desenvolvidos sago invisibilizadas no Munro digital, com consequÃªncias negatives e directs Na SUA economic e desenvolvimento. Segundo o Institute Damages, em 2022, a communicate de phalanges de Portuguese no Munro era estimate em circa de 260 mileages de persons (3.7% the populaÃ§Ã£o sundial) send o quarto idiom main us ado, depots do Mandarin, inlays e Español. Condo, essay representatividade NATO A contemplate no estado the ARTE the Bianca, Que ESTA¡ majoritariamente NAS macOS de instituiÃ§Ãµes e organizaÃ§Ãµes NATO phalanges do Portuguese. Pesquisadores brassieres e Portuguese tam Levant a necessitate de unit forays para color o Portuguese no Lugar de distance Que eye merece1. O processamento do Portuguese Brasilia TEM avanÃ§ado de Madeira consistent DESE meadows the Canada de 1990, principalmente a part do us ode AM e de abordagens cross-language e multilane, Que facility a construÃ§Ã£o Ra¡PDA de precursor e soluÃ§Ãµes, e perm item a geraÃ§Ã£o de UMA aplicaÃ§Ã£o em UMA language a part de UMA aplicaÃ§Ã£o em outran language. Mas Linda A area¡RIA an UNIDO de esforÃ§os entire OS passes the Communicate de PaÃ­ses de LÃ­ngua Portuguese (CPLP), Que include Portugal, Angola, Mozambique, Cab Verde, GuinÃ©-Bissau, Sago Tomas e Principe, alarm do Brazil. Se as diferenÃ§as linguistics entire OS differences idioms represent am Barbara para a criaÃ§Ã£o de systems comes, NATO HA¡ David de Que an UNIDO de esforÃ§os tiara¡ benefactor para to-dos. POR Ora, o esforÃ§o main Isabel A queue entire OS main fortes do group, Brazil e Portugal, Que realized um event cientÃ­fico biannual comm, o PROPOR2, e bantam vÃ­nculos academics HA¡ VA¡bias decades. Does grand deposits³Rios de precursor e ferments linguÃ­stico-computacionais do Portuguese, Que pretended arranger as divers as communicates de language Portuguese sago a Linguateca3 e o Portland Clarin4. Em passes extensor Como o Brazil, one HA¡ UMA Grande variegate linguistic, an exempla was differences language indigents facades em Terra³Rio nacional5, was variaÃ§Ãµes diabetes e socials e dos statues regionals do Portuguese Brasilia, seas requests e diversities linguistics dificilmente sago represented nos corpora. Essay sub-representaÃ§Ã£o nos dadoes de transient de models de aprendizado de MA¡Quinn A um dos fat ores Que contributed para augmenter a codificaÃ§Ã£o de vises POR Essex systems. Percebe-se, potato, an importance de OS dadoes linguistics Que aliment am ties systems farm coleads de form response¡Del, husband representor as variaÃ§Ãµes linguistics e idiom¡ticks was language facades no PAAs. Um dos primary corpora em Portuguese Brasilia us ado para rear um model ode language A o Br Wac (Brazilian Portuguese Web as corpus), compost POR 3,53 mileages de documents the web, totalizator 2,68 villages de tokens, com aces so public para pesquisadores6. JA¡ o corpus Carolina, do CENTR de IA, C4AI7, A, de cord com OS autores, album corpus com um volume robust ode texts em Portuguese Brasilia contemporaries (1970-2021), com informaÃ§Ãµes de procedÃªncia e apologia. O corpus ESTA¡ disponÃ­vel em aces so Alberto, para download gratuity, DESE 8 de Mario de 2022. A versa actual, Ada 1.2 (8 de Mario de 2023), TEM 823 mileages de tokens, main de does mileages de texts e main de 11 GBsâ8. Else corpus A um important pass para o transient de LLM do Portuguese Brasilia, e TEM o Mario de include UMA Grande variegate de garners (journalism, literature, poetic, judicial¡Rio, wikis, media social, legislative, academic etc.), mas Linda NATO contempt as diversities regionals e cultural Odessa language, meta Perseid polo C4AI com a construÃ§Ã£o do corpus de fall (transcriptases) TaRSila9, proviso para contemplate OS differences diabetes brassieres. To-dos Essex corpora pretended SER variants quarto a garner textual e domain. No memo C4AI, o project PROINDL10 promote user an IA em Parker com communicates indigents para o desenvolvimento de ferments Que program a preservaÃ§Ã£o, revitalizaÃ§Ã£o e disseminaÃ§Ã£o de language indigents do Brazil. Um dos objectives A explorer as tactics Que utilize pounds dadoes para friar tractors autumn¡ticks tango para text Como para fall, alarm de outran aplicaÃ§Ãµes. Memo com a limitaÃ§Ã£o de variegate e Camacho de corpora em Portuguese para transient de Alms, grand models de language para o Portuguese JA¡ sago encontrados, query seam models com capacitance multilane (ex. OS models PALM the Google), query seam tramadol arenas em Portuguese (ex. BERTimbau(Souza; Nigeria; Lotus, 2020), Sabin¡ (Fires et al., 2023), Albertina11). Odessa form, sago class OS avatars em direÃ§Ã£o a products para a language Portuguese. No extant, o Que code Parker simple (corpus + reds neurons e Transformers + fine-tuning = LLM) code SER, de photo, India¡Del. O custom de see producer um LLM de qualified A extremamente alto. Um Ã³time LLM, Como o LLaMA-65B, POR exempla, for prÃ©-treinado com 1.4 Trisha de palavers, em 40 mil GPU12-horas, consuming energy equivalent AO consume de circa de 10 cases basilicas em um ano13. DE um Lady, sago necessary¡bias moots GPUs para rear models competition: quarto major o name de GPUs, main parameters poem SER usages no model, aumentando SUA Erica¡CIA NUMA Tara. Atualmente, pounds instituiÃ§Ãµes basilicas of privates disease de infrastructure para tale, Linda Assam, com name de GPUs bast ante inferior (DE 2 a 100) Ã quell disponÃ­vel em never (clusters de TPUs14) com prestos de August Que poem clear an um Milano de DA³Lars. Pesquisadores costume recorder a precursor gratuitous e temporal¡Rios oferecidos peas gig antes internationals (ex. Google Cloud). Essay dependÃªncia external POR precursor essentials AO desenvolvimento tenor³Rico SA³ code SER minimized POR Mao de manages e investments governments (p.ex. centralized polo CNP) of POR initiatives cultivar dos detectors de precursor no Santino de junta¡-Los para incremental o power computational e compartilhÃ¡-lo com today a communicate. De outro Lady, independentemente do factor financier, demos o custom energetic, com Erato Na emissary de carbon, Que, Como limos, NATO A desprezÃ­vel. Essay questions nos fazed reflector sober OS PRA³limos casinos a Seguin. NEM Tudor see resolve com grand models de language, Assam Como HA¡ moots aplicaÃ§Ãµes interstates Que poem SER desenvolvidas of com models main Modesto of POR mass distinct dos models de language. Considered teargas e domains de conhecimento particulars, A possÃ­vel construct soluÃ§Ãµes a part de models tramadol arenas Jesse domain. De photo, OS resultants tended a SER Delores do Que com o us ode models main generics. Alarm disco, considered UMA Tara main especÃ­fica code lever an UMA soluÃ§Ã£o - quarter Que sea an cordage - main Erica. As limitaÃ§Ãµes para an academia NATO impede, no extant, Que o PLN sea CADA viz main us ado POR empress e startups the Ã¡REA, COJO name OEM crescendo moot em nos so PAAs. Certainty ISSN A Frito the Alta demand POR systems Odessa nature, mas Tampa do investment was universities basilicas Na formaÃ§Ã£o de precursor humans Tessa Ã¡REA. Estates given um moment ode Grande absorÃ§Ã£o dos professionals de PLN polo Mercado. Mai sum motive para refletirmos sober a formaÃ§Ã£o dresses professionals free AOS grand details Que essay Ã¡REA (e an IA de mode Gerald) nos Coloma. Alarm de today as questions levantadas anteriormente, vale Realtor a relevance de see adequate OS criterion de avaliaÃ§Ã£o tradicionalmente usages para systems de IA e, em particular, de PLN, Ã nova revalidate was aplicaÃ§Ãµes ocarinas Ã societal. A cultural academic sugar UMA avaliaÃ§Ã£o em cent¡Rios rigidamente controls, sand arenas matrices objectives (numerical), viands quasi Que exclusivamente a comparaÃ§Ã£o com outros systems. Assam A a Bianca e Assam ELA evolve. No extant, tend them vista o advance Que as novas technologies tam Na societal, A urgent Que OS mastodon de avaliaÃ§Ã£o considered criterion de outran natures, criterion Que Jude a prefer o comportment do system em situaÃ§Ãµes, de photo, reais, sabidamente complexes, one an imprevisibilidade A um factor relevant. A language A frequentemente cicada Como final de inteligÃªncia e, POR ISSN, nos distinguish de outros animals. A POR essay Lazaro, Asia¡s, Que o PLN sempre Steve Figaro Ã Ã¡REA de InteligÃªncia Artificial. Systems dorados de habilitates linguistics stadium entire OS (artificialmente) intelligences. No extant, inteligÃªncia A also bifacial de see definer. Arenas Parker intelligence nos FAZ intelligences? Essay question sempre Steve present Na IA. Como definer um system intelligence? A necessary¡Rio Que eye vaccine Como OS humans (sea bioinspirado), Que ten ha conhecimento explicitamente represent ado em sees algorithms, of pasta Que seas reposts seam similar Ã s DE um human NAS mesas situaÃ§Ãµes? NATO HA¡ cord sober ISSN, ATA torque sequel conseguimos concordat com OS criterion de classificaÃ§Ã£o de inteligÃªncia human. No case do PLN, ISSN see trade Na beguine question: AOS systems Que mos tram habilitate linguistic models tribute inteligÃªncia? Linda: eyes de photo dominant o conhecimento total sober a language e to-dos OS fend´menus Que a language em USO nos present? A language TEM side object de escudo, Ana¡life e Mascagni NAS main variants Ã¡areas do conhecimento: philosophic, literature, linguistic, psychologic, Chicana¡life, ciÃªncias cognitive, comunicaÃ§Ã£o social, entire outran, e, resentment, do PLN. ISSN reveal Que a language A um object de escudo bast ante Rico e complex, e, potato, NATO A possÃ­vel aboard¡-lo Segundo UMA Africa discipline. O PLN TEM side presented Como UMA Ã¡REA comm a dual disciplines, ComputaÃ§Ã£o e Linguistic. No pass ado, ISSN Garcia sufficient, poi arenas a porÃ§Ã£o formal, structural the language era Granada computacionalmente15. Com o passer do tempo, an evoluÃ§Ã£o was MA¡Aquinas e as reds socials, ISSN mud. Essay language em USO no cent¡Rio digital actual SA³ code SER Granada de form transdisciplinary. NATO A um Camino simple, NEM CA´mode, NEM guarantor de Que o PLN term¡ success. Polo contra¡Rio, NATO A improve¡Del Que, AO Tatar a language em today SUA complexioned, conclusion Que HA¡ um limited para o PLN Que independent de avatars tenor³giros. Os capÃ­tulos anteriores evidencing Que PLN A UMA Ã¡REA de Grande potential, PRAM replete de details, sober OS quiet A bifacial fazed previses. VA¡bias teargas de IA tam side solucionadas peas technologies attain (Rides Neurons, Aprendizado de MÃ¡Quinn) Que NATO sago ideas novas; eras farm adormecidas ATA Que o hardware was MA¡Aquinas please process¡-leis eficientemente. Em see Orlando de PLN, no extant, NATO A razor¡Del prefer Que avatars de hardware, of memo de mastodon, grandam a soluÃ§Ã£o complete para to-dos OS systems Que involved a language. A demand POR systems Que process am a language NATO para de Chester. Vale NOTAR Que demands e mastodon sago interdependentes: Squanto as demands program novas mastodon, Estes Albinos Abram Camino para novas demands antes NATO possÃ­veis. Ester live Tampa evidencing Que o desempenho linguistic dos systems attain de PLN Pelham Aquino Que appended a part dos dadoes de transient dos algorithms de aprendizado: language Na Norma cult, language MAL formed, discuss de Ã³did, Virginia of racism; o Que query Que ten ha side oferecido AO algorithm de aprendizado a tattoo de exempla eventualmente era¡ reproduced polo system Gerardo. Como o conhecimento (a language) acquired messes systems NATO A explicitamente represent ado (eye ESTA¡ Emerson em val ores probabilÃ­sticos of parameters numerics was reds neurons), NATO HA¡ um control de quango e Como eye era¡ us ado. To-dos Essex fears collaterals Odessa technology preoccupy a societal e trade para a communicate de PLN details e responsabilidades NATO existences antes. As trade³bias the IA e do PLN tam nos Ensenada Que o advance de metal main modest as e realists, AO long do tempo, TEM nos lead a pajamas CADA viz main surpreendentes. Confidants vocal an emperor par aver, of fazed para contender. https://www.publico.pt/2023/02/09/opiniao/opiniao/lingua-portuguesa-tecnologia-futuro-2038078â©ï¸ CE-PLN. PROPER (International Conference on Computational Processing of Portuguese Language). DisponÃ­vel em: https://sites.google.com/view/ce-pln/eventos/propor.â©ï¸ https://www.linguateca.pt/â©ï¸ https://portulanclarin.net/â©ï¸ https://www.gov.br/funai/pt-br/assuntos/noticias/2022-02/brasil-registra-274-linguas-indigenas-diferentes-faladas-por-305-etniasâ©ï¸ https://www.inf.ufrgs.br/pln/wiki/index.php?title=BrWaCâ©ï¸ https://c4ai.inova.usp.br/pt/sobre/â©ï¸ https://sites.usp.br/corpuscarolina/â©ï¸ TaRSila. DisponÃ­vel em: https://sites.google.com/view/tarsila-c4ai.â©ï¸ https://c4ai.inova.usp.br/pt/pesquisas/#PROINDL_portâ©ï¸ Amalia de models tramadol para as variants Europa e Brasilia do Portuguese disponÃ­vel em: https://huggingface.co/PORTULAN/albertina-ptbr-nobrwac.â©ï¸ Graphics Processing Unit a Unicode de processamento GRA¡FICO.â©ï¸ https://www.youtube.com/watch?v=prJrQ8XL-AY&ab_channel=BrasileirasemPLNâ©ï¸ Thus (Updates de Processamento de Tensor) sago accelerators de transient e geraÃ§Ã£o de models de machine learning.â©ï¸ A rigor, someone a part formal the language A passage de processamento plea MA¡Quinn. Today tentative de Alcántara o extralinguÃ­stico traverse arenas de UMA aproximaÃ§Ã£o.â©ï¸\n",
            "Sentimento: -0.04583333333333334\n",
            "Emoções: [{'label': 'NEGATIVE', 'score': 0.9901690483093262}]\n",
            "Palavras-chave: ['que']\n",
            "Texto traduzido: Maria das Fágios Volpe Nunes 09/26/2023 PDF In this last chapter we list some challenges and perspectives for the PLN in Portuguese, and end with a discussion about the current boundaries of PLN. By historical and econhamic reasons, current systems of the state of the state of the art is much more common in English than in any other dowant. While other communities that are adapted for their wools the systems originally created for English (through new training, but with the use of parantens), minority linguistic communities and linguastic communities of less developed paães invisible in the world digital, with negative and direct consequences in its economy and development. According to the Camãs Institute in 2022, the Portuguese speaker community in the world was estimated at about 260 million people (3.7% of the world population) being the fourth most used language after Mandarin, English and Spanish. However, this representativeness is not contemplated in the state of the art of science, which is mostly in the moms of institutions and organizations do not speak Portuguese. Brazilian and Portuguese researchers so raised the need to unite forms to put the Portuguese in the prominent place he deserves1. The processing of Portuguese Brazilian has been consistently advanced since mid-1990s, especially from the use of Cross-Language and Multilãngue approaches, which facilitate the construction of resources and solutions, and allow the generation of an application to a bone of an application to another designer. But it is still the union of efforts between the paan of the Portuguese dowant's (CPLP) paan community, which includes Portugal, Angola, Mohard, Cape Verde, Guinã © -Bissau, San Tomão and Proncipe, in addition to Brazil. If linguastic differences between the different languages ​​represent barriers to the creation of common systems, it is not possible that the union of efforts will be benefited for all. For now, the most visible effort is the one among the strongest in the group, Brazil and Portugal, which hold a common biannual scientific event, the propo2, and maintenance of academic vans hightly vain. Two large repositations of resource and linguistic-computational tools of Portuguese, which intend to cover the various communities of Portuguese dowant are Languagec3 and Portulan Clarin4. In extensive matters such as Brazil, where there is a wide linguastic variety, such as the different indigenous wools spoken in the national territory5, the dialectal and social variations and the regional accents of Brazilian Portuguese, their riches and linguastic diversity hardly SÃO represented in the corpora. This sub-presentation in the training data of Mother's learning models is one of the factors that contribute to increasing the coding of biases by these systems. Therefore, the importance of the linguan data that feeds such systems is collected in a responsibly manner, seeking to represent the linguastic and idiomal variations of the wool spoken in the pans. One of the first Brazilian corporate used to train a model of banguage is the BRWAC (Brazilian Brazilian Web as Corpus), consisting of 3.53 million web documents, totaling 2.68 pills of tokens, with pill access to researchers6 . Already the corpus Carolina, from the center of AI, C4AI7, is, according to the authors, a corpus with a robust volume of texts in Portuguese Contemporã ¢ Neo (1970-2021), with information information Procedure and typology. Corpus is available for open access, for free download, since 8 of 2022. The current versions, ad 1.2 (8 of 2023), has 823 million tokens, more than two million of texts and more than 11 gbsan 8. This corpus is an important step towards the Brazilian Portuguese training, and has the rite of including a wide variety of gãªneros (journalism, literature, poetry, judicial, wikis, social, legislative, academic, etc. ), but still does not contemplate the regional and cultural diversity of this dowant, a goal pursued by the C4AI with the construction of the speech corpus (transcripts) Tarsila9, expected to contemplate the different Brazilian dialects. All of these corpora intend to be varied as to the textual and domain. In the same C4AI, the Proindl10 project promises to use AI in partnership with indigenous communities for the development of tools that promote preservation, revitalization and dissemination of indigenous wool in Brazil. One of the goals is to explore the techniques that use few data to create auto translators for both text and speech, in other other applications. Even with the limit of variety and corporate size in Portuguese for training of LLMs, large models of dowition for the Portuguese are already found, whether they are models with Multilãngue capacity (eg Google Palm models) , whether they are trained only in Portuguese (eg Bertimbau (Souza; Nogueira; Lotufo, 2020), Sabijão (Pires et al., 2023), Albertina11). Thus, clear the advances in the direction of Portuguese dowition. However, what may seem simple (corpus + neural networks and transformers + fine-tuning = llm) can indeed be unbeaten. The cost of producing a quality LLM is extremely high. A llm, such as the Llama-65b, for example, was pronounced with 1.4 Trilhã of words, in 40,000 GPU12-hours, consuming energy equivalent to the consumption of about 10 Brazilian houses in one year13. On the one hand, they are required many GPUs to train competitive models: the greater the number of GPUS, the more parts can be used in the model, increasing their effectiveness in a task. Currently, few pillful or private institutions have an infrastructure to do so, and yet with a much lower GPUs (2 to 100) that has cloud -disposed (TPUS14 cloud) with rent that can arrive that can arrive to a million dummal mills. Researchers often resort to free and temporary resources offered by international giants (eg Google Cloud). This external dependence on resources essential to technological development can be minimized through governmental action and investments (eg CNPq centered) or by collective initiatives of resource holders to gather them to increase the power Computational and share it with the whole community. On the other hand, regardless of the financial factor, we have the energy cost, with effect on carbon emission, which, as we have seen, is not discouraged. These questions make us reflect on the following ways to follow. Not everything is resolved with large models of Dipangua, as well as many interesting applications that can be developed either with more modest models or by different means of desire models. Considering particular tasks and domains of knowledge, it is possible to build solutions from models trained only in this domain. In fact, the results tend to be better than with the use of more general models. In addition, considering a more specific task can lead to a solution - whatever the most effective approach. The limitations for the academy not prevent, however, that the PLN is increasingly used by companies and startups of the area, whose number has been growing a lot in our Paãs. Certainly this is the result of the high demand for systems of this nature, but also of the investment of the universities in the form of human resources in this area. We are living a moment of great absorption of PLN professionals through the market. One more reason to reflect on the formation of these professionals in the face of the great challenges that this area (and the AI ​​in general) puts us. In addition to all the questions previously raised, it is noteworthy the relevance of adapting the critics of evaluation traditionally used for AI and, in particular, PLN, the new reality of the application offered to society. Academic culture suggests an assessment in rigidly controlled scenes, using only objective (numerical) moments, aiming at almost exclusively comparing with other systems. So it is the science and so it evolves. However, in view of the reach that new technologies are in society, it is urgent that all the assessment of the assessment consider criticism of other natures, critics that help to predict the behavior of the system in Situation, in fact, real, known, where unpredictability is a relevant factor. The dowant is often cited as a sign of intelligence and therefore distinguish us from other animals. For this reason, alião, that the PLN has always been linked to the artificial intelligence. Systems endowed with linguastic skills would be among the (artificially) intelligent (artificially). However, intelligence is something difficult to define. Just seem intelligent to make us smart? This question has always been present at AI. How to define an intelligent system? It is necessary that he reason like humans (be bioinspirated), who has knowledge explicitly represented in his algorithms, or is enough that his answers are similar to a human in the same situations? There is no agreement on this, as we can not even agree with the crothes of classification of human intelligence. In the case of PLN, this translates into the following question: Can the systems that show linguastic skill can be given intelligence? Still: do they really dominate the total knowledge of the dowant and all the feats that the dowant in use presents us? The Dipangua has been the object of study, dwarf and fascination in the most varied areas of knowledge: philosophy, literature, linguastic, psychology, psycholysis, cognitive sciences, social communication, among others, and recently , from PLN. This reveals that the dowant is a very rich and complex object of study, and therefore, it is not possible to address it according to a discipline. The PLN has been presented as a common area to two disciplines, computing and linguastic. In the past, this seemed enough, for only the formal, structural, dowant poron was treated computationally15. Over time, the evolution of mothers and social networks has changed. This operating one in use in the current digital scene can be treated in a transdisciplinary way. It is not a simple path, neither Cánmodo nor guarantee that the PLN will be successful. For the contrary, it is not improvable that, when treating the dowant in all its complexity, we conclude that there is a limit to the PLN that is independent of technological advances. Anterior chapters show that PLN is an area of ​​great potential, poring challenges, over which it is difficult to make predictions. Various tasks of being resolved by current technologies (neural networks, learning of mother) that are not new ideas; They were dormant to the hardware of the mother could process them efficiently. In the case of PLN, however, it is not reasonable to predict that hardware advances, or even all, guarantee the complete solution for all systems surrounding the dowant. The demand for systems that process the dowant does not stop growing. It is worth noting that demands and mothers are interdependent: while demands cause new mothers, these are the last way to new demands before no possible. This book also showed that the linguastic performance of current PLN systems mirror what they learn from the training data of learning algorithms: Wool in the cultured norm, poorly formed, discourse, misogyny or racism; Whatever has been offered to the learning algorithm, the example of an example eventually reproduced by the generated system. As knowledge (the banguage) acquired in these systems is not explicitly represented (it is immersed in probability or paranters in the numbers of neural networks), there is no control of when and how it will be used. All these side effects of this technology worry society and bring to the PLN community challenges and responsibilities not existing before. The AI ​​and PLN TRA TR TAKEN TRAINING THAT TEACHED THAT THE ACHIEVEMENT OF MORE MODEST AND REALIST GOALS Over time has led us to increasingly surprising levels. We invite you to wait to see, or to do to happen. https://www.publico.pt/2023/02/09/opiniao/opiniao/linga-portuguesa-technology-futuro-2038078â © ï Proposal (International Conference on Computational Processing of Portuguese Language). Arrangeable at: https://sites.google.com/view/ce-pln/eventos/propor.â © ïda https://www.lingateca.pt/ © ï .NET/Â ïça https://www.gov.br/funai/en-br/assuntos/noticias/2022-02/brasil-registra-274-lingas-indigenas-diferdas-faladas-por-305 -etniasâ © ïça https://www.inf.ufrgs.br/pln/wiki/index.php?title=brwaca © ï /Â ïça https://sites.usp.br/corpuscarolina/â © ïça Tarsila. Arrange at: https://sites.google.com/view/tarsila-c4ai.â © ïça https://c4ai.inova.usp.br/en/pesquisas/#proindl_porta © ï Trained models for European and Brazilian variants of Portuguese dispanable at: https://huggingface.co/portulan/albertina-ptbr-nobrwac. â Â ïça https://www.youtube.com/watch?v=prjrq8xl-y&ab_channel=brasileiraSemplNen © ïda TPUS (Tensor Processing Units) are training and generation accelerators £ of models of Machine Learning. Every attempt to reach the extraolinguastic is only an approximation.\n",
            "Resumo:  PortuguÃªs represent 3,7% of the world's population, sendo o quarto idioma mais usado . Outras comunidades linguÃ­sticas minoritÃ¡rias e comunidadas of paÃ­ses menos desenvolvidos sÃ£o invisibilizadas no the world .  O processamento do portuguÃªs brasileiro tem avanÃ§ado de maneira consistente desde meados da dÃ©cada de 1990, principalmentmente a partir do uso de AM e de abordagens cross-language e multilÃ­ngue .  Brasil e Portugal realizam um evento cientÃ­fico bianual comum, o PROPOR2, e mantÃªm vÃ­nculos acadÃ¡micos . Dois grandes repositÃ³rios de recursos e ferramentas linguÃ­stico-computacionais do PortuguÃ’s . They pretendem abranger as diversas comunidades de lÃ­ngua portuguesa .  O corpus Carolina, do Centro de IA, C4AI7, usado for treinar um modelo de lÃ­ngua Ã© o BrWac (Brazilian Portuguese Web as corpus) composto por 3,53 milhÃµes of documentos da web . O corpus estÃ¡ disponÃ­vel em acessÃªs aberto, para download gratuito, desde 8 de marÃ§o de 2022 .  Projeto PROINDL10 promete usar usar a IA em parceria com comunidades indÃ­genas for the desenvolvimento of ferramentas that promovam a preservaÃ§Ã£o .  O custo de se produzir um LLM de qualidade Ã© extremamente alto. Dessa forma, sÃ£o claros os avanÃ§os em direÃµ£o a produtos for a lÃ­ngua portuguesa .  Pesquisadores costumam recorrer a recursos gratuitos e temporÃ¡rios oferecidos pelas gigantes internacionais (ex. Google Cloud) Essa dependÃªncia externa pode ser minimizada por meio de aÃ§Ã³gico e investimentos governamentais .  Considerando tarefas e domÃ­nios de conhecimento particulares, Ã© possÃ­vel construir soluÃ§Ãµes a partir of modelos treinados . Resultados tendem a ser melhores do que com o uso de modelos mais genÃ©ricos . O PLN seja cada vez mais usado by empresas e startups da Ã¡rea .  A cultura acadÃªmica sugere uma avaliaÃ§Ã¡rios rigidamente controlados, usando apenas mÃ©tricas objetivas (numÃ©ricas) A lÃ­ngua Ã© frequentemente citada como sinal de inteligÃ¬ncia e, por isso, nos distinguiria de outros animais . Sistemas dotados de habilidades linguÃ­sticas estariam   Ã por essa .  Apenas parecer inteligente nos faz inteligentes? Essa questÃ£o sempre esteve presente na IA . No entanto, inteligÃªncia Ã© algo difÃ­cil de se definir. Ainda: eles de fato dominam o conhecimento total sobre a lÃ­ngua .  O PLN tem sido apresentado como uma Ã¡rea comum a duas disciplinas, ComputaÃ§Ã£o e LinguÃ­stica . Isso revela that a lÃ­ngua Ã© um objeto de estudo bastante rico e complexo .  arefas de IA tÃªm sido solucionadas pelas tecnologias atuais (Redes Neurais, Aprendizado de MÃ¡quina) that nÃ£o sÃ£a sÃÃ³dio, misoginia ou racismo . A demanda por sistemas that processam a lÃ­ngua nÃ£o para de crescer .  Como o conhecimento (a lÃ­ngua) adquirido ness nÃ£o Ã© explicitamente representado (ele estÃ¡ imerso em valores probabilÃ­sticos ou parÃ¢metros numÃ©ricos das redes neurais) nÃªm nos ensinado that o alcance de metas mais modestas e realistas, ao longo do tempo, tem nos levado a patamares mais surpreendentententes .  A rigor, somente a parte formal da lÃ­ngua Ã© passÃ­vel de processamento pela mÃ¡quina.â©ï¸ Graphics Processing Unit (Unidades de Processamento de Tensor) sÃ£o aceleradores de treinamento e geraÃª£o de modelos de machine learning .\n"
          ]
        }
      ]
    },
    {
      "cell_type": "markdown",
      "source": [
        "# Similaridade entre Capítulos:"
      ],
      "metadata": {
        "id": "IXestfY3UxyR"
      }
    },
    {
      "cell_type": "code",
      "source": [
        "print(\"Similaridade entre Capítulo 13 e Capítulo 25:\", capitulo13_capitulo25_similaridade)"
      ],
      "metadata": {
        "colab": {
          "base_uri": "https://localhost:8080/"
        },
        "id": "5KVqfgleUyKv",
        "outputId": "cb8ac04c-fb96-4411-c818-efa6d00cde92"
      },
      "execution_count": 37,
      "outputs": [
        {
          "output_type": "stream",
          "name": "stdout",
          "text": [
            "Similaridade entre Capítulo 13 e Capítulo 25: 0.2129267053564896\n"
          ]
        }
      ]
    }
  ],
  "metadata": {
    "colab": {
      "provenance": []
    },
    "kernelspec": {
      "display_name": "Python 3",
      "name": "python3"
    }
  },
  "nbformat": 4,
  "nbformat_minor": 0
}